{
 "cells": [
  {
   "cell_type": "code",
   "execution_count": null,
   "metadata": {},
   "outputs": [],
   "source": [
    "#Q.1\n",
    "def anagram (s1, s2):\n",
    "    return sorted(s1) == sorted(s2)\n",
    "\n",
    "print(anagram('Shivam', 'mShiav')) #True"
   ]
  },
  {
   "cell_type": "code",
   "execution_count": null,
   "metadata": {},
   "outputs": [],
   "source": [
    "#Q.2\n",
    "def pow (x, n):\n",
    "    if n==0:\n",
    "        return 1\n",
    "    elif n<0:\n",
    "        return 1/pow(x, -n)\n",
    "    elif n%2 == 0:\n",
    "        return pow(x, n//2)*pow(x, n//2)\n",
    "    else:\n",
    "        return x*pow(x, n-1)\n",
    "        \n",
    "print(pow(2, 3)) # 8\n",
    "print(pow(4, 0)) # 1\n",
    "print(pow(-2, 3)) # -8\n",
    "print(pow(-2, 2)) # 4\n",
    "print(pow(2, -3)) # 0.125"
   ]
  },
  {
   "cell_type": "code",
   "execution_count": null,
   "metadata": {},
   "outputs": [],
   "source": [
    "#Q.3\n",
    "import math\n",
    "\n",
    "roots =  lambda a, b, c : (None, None) if b*b - 4*a*c < 0 else ((-b+math.sqrt(b*b - 4*a*c))/(2*a), (-b-math.sqrt(b*b - 4*a*c))/(2*a))\n",
    "print(roots(2, -7, 6)) #(2.0, 1.5)\n"
   ]
  },
  {
   "cell_type": "code",
   "execution_count": null,
   "metadata": {},
   "outputs": [],
   "source": [
    "#Q.4\n",
    "def rename(D, k, newk):\n",
    "    D[newk] = D[k]\n",
    "    del D[k]\n",
    "    return\n",
    "\n",
    "courselist = {'ED2' : 'Intro to Comp', 'ED1' : 'Python', 'ED4' : 'DSA', 'ED3' : 'Geometric Modeling'}\n",
    "rename(courselist, 'ED3', 'ED5')\n",
    "print(courselist) # {'ED2' : 'Intro to Comp', 'ED1' : 'Python', 'ED4' : 'DSA', 'ED5' : 'Geometric Modeling'}\n"
   ]
  },
  {
   "cell_type": "code",
   "execution_count": null,
   "metadata": {},
   "outputs": [],
   "source": [
    "#Q.5\n",
    "l = [2, 4, 1, 6, 3 ,8]\n",
    "ascending = sorted(l, key = lambda num:num)\n",
    "print(ascending) # [1, 2, 3, 4, 6, 8]\n",
    "descending = sorted(l, key = lambda num:num, reverse = True) \n",
    "print(descending) # [8, 6, 4, 3, 2, 1]\n",
    "\n",
    "people = [(\"Alice\", 25), (\"Bob\", 22), (\"Charlie\", 30), (\"David\", 27)]\n",
    "age_sort = sorted(people, key = lambda person : person[1])\n",
    "print(age_sort) # [('Bob', 22), ('Alice', 25), ('David', 27), ('Charlie', 30)]"
   ]
  },
  {
   "cell_type": "code",
   "execution_count": null,
   "metadata": {},
   "outputs": [],
   "source": [
    "#Q.6\n",
    "def fib(n):\n",
    "    if n<=1:\n",
    "        return n\n",
    "    return fib(n-1) + fib(n-2)"
   ]
  },
  {
   "cell_type": "code",
   "execution_count": null,
   "metadata": {},
   "outputs": [],
   "source": [
    "#Q.7\n",
    "def frequency(s):\n",
    "    count = {}\n",
    "    for c in s:\n",
    "        if c in count:\n",
    "            count[c] += 1\n",
    "        else:\n",
    "            count[c] = 1\n",
    "    return count\n",
    "\n",
    "print(frequency(\"aabcddezk\")) # {'a': 2, 'b': 1, 'c': 1, 'd': 2, 'e': 1, 'z': 1, 'k': 1}"
   ]
  }
 ],
 "metadata": {
  "kernelspec": {
   "display_name": "Python 3",
   "language": "python",
   "name": "python3"
  },
  "language_info": {
   "name": "python",
   "version": "3.10.12"
  }
 },
 "nbformat": 4,
 "nbformat_minor": 2
}
