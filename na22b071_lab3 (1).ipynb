{
 "cells": [
  {
   "cell_type": "markdown",
   "metadata": {},
   "source": [
    "Q.1 Write a python code to find k closest neighbors of the given element in a sorted array (arr) \n",
    " Input: [2, 3, 4, 5, 6, 7], k = 3, a = 5 \n",
    " Output: [3, 4, 6] \n",
    " Rule: The integer ‘a’ may or may not be present in the input array. If ‘a’ is less than or equal to the first element in the input array, return the first k elements. Similarly, if ‘a’ is more than or equal to the last element in the input array, return the last k elements. The returned elements should be in the same order as present in the input array."
   ]
  },
  {
   "cell_type": "code",
   "execution_count": 3,
   "metadata": {},
   "outputs": [
    {
     "name": "stdout",
     "output_type": "stream",
     "text": [
      "[3, 4, 6]\n"
     ]
    }
   ],
   "source": [
    "arr = [2, 3, 4, 5, 6, 7]\n",
    "k = 3\n",
    "a = 5\n",
    "\n",
    "if a <= arr[0]:\n",
    "    print(arr[:k])\n",
    "elif a >= arr[-1]:\n",
    "    print(arr[-k:])\n",
    "else:\n",
    "    ans = []\n",
    "    index = 0\n",
    "    for i in range(len(arr)):\n",
    "        if arr[i] == a:\n",
    "            index = i\n",
    "\n",
    "    left = index-1\n",
    "    right = index+1\n",
    "\n",
    "    while left >=0 and right < len(arr) and k > 0:\n",
    "        ans.append(arr[left])\n",
    "        left-=1\n",
    "        k-=1\n",
    "        if k == 0:\n",
    "            break\n",
    "        ans.append(arr[right])\n",
    "        right += 1\n",
    "        k -= 1\n",
    "    while left >= 0 and k > 0:\n",
    "        ans.append(arr[left])\n",
    "        left -= 1\n",
    "        k -= 1\n",
    "        if k == 0:\n",
    "            break\n",
    "    while right < len(arr) and k > 0:\n",
    "        ans.append(arr[right])\n",
    "        right += 1\n",
    "        k -= 1\n",
    "        if k == 0:\n",
    "            break\n",
    "    print(sorted(ans))"
   ]
  },
  {
   "cell_type": "markdown",
   "metadata": {},
   "source": [
    "Q.2 Given 2 list. Print their union and intersection. Input: [1, 2, 4, 5], [2, 4, 6] Output: Union - [1, 2, 4, 5, 6]; Intersection - [2, 4]"
   ]
  },
  {
   "cell_type": "code",
   "execution_count": 4,
   "metadata": {},
   "outputs": [
    {
     "name": "stdout",
     "output_type": "stream",
     "text": [
      "Union: [1, 2, 4, 5, 6]\n",
      "Intersection: [2, 4]\n"
     ]
    }
   ],
   "source": [
    "arrA = [1, 2, 4, 5]\n",
    "arrB = [2, 4, 6] \n",
    "\n",
    "union = list((set(arrA))|(set(arrB)))\n",
    "intersection = list((set(arrA))&(set(arrB)))\n",
    "print('Union:', union)\n",
    "print('Intersection:', intersection)"
   ]
  },
  {
   "cell_type": "markdown",
   "metadata": {},
   "source": [
    "Q.3 Using list comprehension and random number generation between 10 and 100, (a) Print the even numbers (b) Print the odd numbers (c) Print the numbers divisible by 3"
   ]
  },
  {
   "cell_type": "code",
   "execution_count": 5,
   "metadata": {},
   "outputs": [
    {
     "name": "stdout",
     "output_type": "stream",
     "text": [
      "arr: [84, 79, 55, 87, 81, 58, 84, 39, 49, 29]\n",
      "even: [84, 58, 84]\n",
      "odd: [79, 55, 87, 81, 39, 49, 29]\n",
      "divisible by 3: [84, 87, 81, 84, 39]\n"
     ]
    }
   ],
   "source": [
    "import random\n",
    "arrC = [random.randint(10, 100)  for i in range(10)]\n",
    "even = [num for num in arrC if num%2 == 0]\n",
    "odd = [num for num in arrC if num%2 != 0]\n",
    "div3 = [num for num in arrC if num%3 == 0]\n",
    "print('arr:', arrC)\n",
    "print('even:', even)\n",
    "print('odd:', odd)\n",
    "print('divisible by 3:', div3)"
   ]
  },
  {
   "cell_type": "markdown",
   "metadata": {},
   "source": [
    "Q.4. \n",
    "(1) Given a 3×3 matrix, write a Python script to modify the matrix such that if any element is 0, the entire row and column containing that 0 are set to 0.\n",
    "\n",
    "Finally, print the original and updated matrix\n",
    "\n",
    "Example: \n",
    "\n",
    "Original Matrix:   \n",
    "\n",
    "[[1, 2, 2], \n",
    "\n",
    "[4, 2, 6], \n",
    "\n",
    "[7, 8, 0]]\n",
    "\n",
    "\n",
    "Updated Matrix:\n",
    "\n",
    "[[1,2,0],\n",
    "\n",
    " [4,2,0],\n",
    "\n",
    " [0,0,0]]"
   ]
  },
  {
   "cell_type": "code",
   "execution_count": 6,
   "metadata": {},
   "outputs": [
    {
     "name": "stdout",
     "output_type": "stream",
     "text": [
      "[1, 2, 2]\n",
      "[4, 2, 6]\n",
      "[7, 8, 0]\n",
      "\n",
      "\n",
      "[1, 2, 0]\n",
      "[4, 2, 0]\n",
      "[0, 0, 0]\n"
     ]
    }
   ],
   "source": [
    "original = [[1,2,2],\n",
    "        [4,2,6],\n",
    "        [7,8,0]]\n",
    "\n",
    "updated = [[1,2,2],\n",
    "        [4,2,6],\n",
    "        [7,8,0]]\n",
    "\n",
    "for i in range(3):\n",
    "    for j in range(3):\n",
    "        if original[i][j] == 0:\n",
    "            for k in range(3):\n",
    "                updated[i][k] = 0\n",
    "                updated[k][j] = 0\n",
    "                \n",
    "for row in original:\n",
    "    print(row)\n",
    "print('\\n')\n",
    "for row in updated:\n",
    "    print(row)\n"
   ]
  },
  {
   "cell_type": "markdown",
   "metadata": {},
   "source": [
    "(2)  Do the same with list comprehension."
   ]
  },
  {
   "cell_type": "code",
   "execution_count": 7,
   "metadata": {},
   "outputs": [
    {
     "name": "stdout",
     "output_type": "stream",
     "text": [
      "Original:\n",
      "[1, 2, 2]\n",
      "[4, 2, 6]\n",
      "[7, 8, 0]\n",
      "\n",
      "Updated:\n",
      "[1, 2, 0]\n",
      "[4, 2, 0]\n",
      "[0, 0, 0]\n"
     ]
    }
   ],
   "source": [
    "original = [[1, 2, 2],\n",
    "            [4, 2, 6],\n",
    "            [7, 8, 0]]\n",
    "\n",
    "zero_rows = {i for i in range(3) for j in range(3) if original[i][j] == 0}\n",
    "zero_cols = {j for i in range(3) for j in range(3) if original[i][j] == 0}\n",
    "\n",
    "updated = [[0 if i in zero_rows or j in zero_cols else original[i][j] for j in range(3)] for i in range(3)]\n",
    "\n",
    "print(\"Original:\")\n",
    "for row in original:\n",
    "    print(row)\n",
    "\n",
    "print(\"\\nUpdated:\")\n",
    "for row in updated:\n",
    "    print(row)"
   ]
  },
  {
   "cell_type": "markdown",
   "metadata": {},
   "source": [
    "Q.5. Create 3 tuples one for name, age and salary. Group them using indexing approach (with and without comprehension) and then with zip function. Print the output as a list."
   ]
  },
  {
   "cell_type": "code",
   "execution_count": 8,
   "metadata": {},
   "outputs": [
    {
     "name": "stdout",
     "output_type": "stream",
     "text": [
      "[('Anmol', 22, 75000), ('Shivam', 20, 110000), ('Kabir', 19, 150000), ('Saravanan', 21, 25000), ('Tittu', 20, 50000)]\n",
      "[('Anmol', 22, 75000), ('Shivam', 20, 110000), ('Kabir', 19, 150000), ('Saravanan', 21, 25000), ('Tittu', 20, 50000)]\n",
      "[('Anmol', 22, 75000), ('Shivam', 20, 110000), ('Kabir', 19, 150000), ('Saravanan', 21, 25000), ('Tittu', 20, 50000)]\n"
     ]
    }
   ],
   "source": [
    "names = ('Anmol', 'Shivam', 'Kabir', 'Saravanan', 'Tittu')\n",
    "age = (22, 20, 19, 21, 20)\n",
    "salary = (75000, 110000, 150000, 25000, 50000)\n",
    "\n",
    "#using indexing approach without arr comprehension\n",
    "group = []\n",
    "for i in range(5):\n",
    "    group.append((names[i], age[i], salary[i]))\n",
    "print(group)\n",
    "\n",
    "#using indexing approach with arr comprehension\n",
    "group = [(names[i], age[i], salary[i]) for i in range(5)] \n",
    "print(group)\n",
    "\n",
    "#using zip function\n",
    "ite = zip(names, age, salary)\n",
    "group = list(ite)\n",
    "print(group)"
   ]
  },
  {
   "cell_type": "markdown",
   "metadata": {},
   "source": [
    "Q.6.For two matrices of size 3X3 each, perform the following matrix operation : (a) Transpose (b) addition, (c) subtraction (d) trace. For each of them, do in both ways i.e. (i) Without using Zip() but use list comprehension (ii) Using Zip()\n",
    "\n"
   ]
  },
  {
   "cell_type": "code",
   "execution_count": 9,
   "metadata": {},
   "outputs": [
    {
     "name": "stdout",
     "output_type": "stream",
     "text": [
      "A transpose: [[1, 4, 7], [2, 2, 8], [2, 6, 0]]\n",
      "B transpose: [[4, 3, 2], [6, 5, 0], [1, 8, 1]]\n",
      "addition: [[5, 8, 3], [7, 7, 14], [9, 8, 1]]\n",
      "subtraction: [[-3, -4, 1], [1, -3, -2], [5, 8, -1]]\n",
      "trace A: 3\n",
      "trace B: 10\n"
     ]
    }
   ],
   "source": [
    "matA = [[1,2,2],\n",
    "        [4,2,6],\n",
    "        [7,8,0]]\n",
    "\n",
    "matB = [[4,6,1],\n",
    "        [3,5,8],\n",
    "        [2,0,1]]\n",
    "\n",
    "# (i) without using zip\n",
    "#(a) => Transpose\n",
    "\n",
    "transposeA = [[matA[j][i] for j in range(3)] for i in range(3)]\n",
    "print('A transpose:', transposeA)\n",
    "\n",
    "transposeB = [[matB[j][i] for j in range(3)] for i in range(3)]\n",
    "print('B transpose:', transposeB)\n",
    "\n",
    "#(b) => Addition\n",
    "sumAB = [[matA[i][j] + matB[i][j] for j in range(3)] for i in range(3)]\n",
    "print('addition:', sumAB)\n",
    "\n",
    "#(c) => Subtraction\n",
    "diffAB = [[matA[i][j] - matB[i][j] for j in range(3)] for i in range(3)]\n",
    "print('subtraction:', diffAB)\n",
    "\n",
    "#(d) => Trace\n",
    "diagA = [matA[i][i] for i in range(3)]\n",
    "diagB = [matB[i][i] for i in range(3)]\n",
    "print('trace A:', sum(diagA))\n",
    "print('trace B:', sum(diagB))"
   ]
  },
  {
   "cell_type": "code",
   "execution_count": 11,
   "metadata": {},
   "outputs": [
    {
     "name": "stdout",
     "output_type": "stream",
     "text": [
      "A transpose: [(1, 4, 7), (2, 2, 8), (2, 6, 0)]\n",
      "B transpose: [[4, 3, 2], [6, 5, 0], [1, 8, 1]]\n",
      "addition:\n",
      "[5, 8, 3]\n",
      "[7, 7, 14]\n",
      "[9, 8, 1]\n",
      "subtraction:\n",
      "[-3, -4, 1]\n",
      "[1, -3, -2]\n",
      "[5, 8, -1]\n"
     ]
    }
   ],
   "source": [
    "matA = [[1,2,2],\n",
    "        [4,2,6],\n",
    "        [7,8,0]]\n",
    "\n",
    "matB = [[4,6,1],\n",
    "        [3,5,8],\n",
    "        [2,0,1]]\n",
    "\n",
    "# (ii) using zip\n",
    "\n",
    "#transpose\n",
    "transposeA = list(zip(*matA))\n",
    "transposB = list(zip(*matB))\n",
    "print('A transpose:', transposeA)\n",
    "print('B transpose:', transposeB)\n",
    "\n",
    "#addition\n",
    "addition = [[a + b for a, b in zip(rowA, rowB)] for rowA, rowB in zip(matA, matB)]\n",
    "\n",
    "print(\"addition:\")\n",
    "for row in addition:\n",
    "    print(row)\n",
    "\n",
    "#subtraction\n",
    "subtraction = [[a - b for a, b in zip(rowA, rowB)] for rowA, rowB in zip(matA, matB)]\n",
    "\n",
    "print(\"subtraction:\")\n",
    "for row in subtraction:\n",
    "    print(row)"
   ]
  },
  {
   "cell_type": "markdown",
   "metadata": {},
   "source": [
    "Q.7.  Given two matrices A and B (list of lists) perform the following operations using zip() and *(unpacking) operator.\n",
    "\n",
    "    (a) Interchange any two rows\n",
    "\n",
    "    (b) Interchange any two columns \n",
    "\n",
    "You can take suitable inputs for rows / columns"
   ]
  },
  {
   "cell_type": "code",
   "execution_count": 25,
   "metadata": {},
   "outputs": [
    {
     "name": "stdout",
     "output_type": "stream",
     "text": [
      "Matrix A\n",
      "[1, 2, 3]\n",
      "[4, 5, 6]\n",
      "[7, 8, 9]\n",
      "Matrix B\n",
      "[10, 11, 12]\n",
      "[13, 14, 15]\n",
      "[16, 17, 18]\n",
      "\n",
      "Updated Matrix A\n",
      "[10, 11, 12]\n",
      "[13, 14, 15]\n",
      "[7, 8, 9]\n",
      "\n",
      "Updated Matrix B\n",
      "[1, 2, 3]\n",
      "[4, 5, 6]\n",
      "[16, 17, 18]\n",
      "\n",
      "Updated Matrix A\n",
      "[10, 11, 3]\n",
      "[13, 14, 6]\n",
      "[16, 17, 9]\n",
      "\n",
      "Updated Matrix B\n",
      "[1, 2, 12]\n",
      "[4, 5, 15]\n",
      "[7, 8, 18]\n"
     ]
    }
   ],
   "source": [
    "A = [[1, 2, 3],\n",
    "[4, 5, 6],\n",
    "[7, 8, 9]]\n",
    "\n",
    "B = [[10, 11, 12],\n",
    "[13, 14, 15],\n",
    "[16, 17, 18]]\n",
    "\n",
    "i = int(input(\"Enter the index of first row to exchange\"))\n",
    "j = int(input(\"Enter the index of second row to exchange\"))\n",
    "\n",
    "m = int(input(\"Enter the index of first column to exchange\"))\n",
    "n = int(input(\"Enter the index of second column to exchange\"))\n",
    "\n",
    "\n",
    "print(\"Matrix A\")\n",
    "for rows in A:\n",
    "    print(rows)\n",
    "\n",
    "print(\"Matrix B\")\n",
    "for rows in B:\n",
    "    print(rows)\n",
    "\n",
    "a = [*A]\n",
    "b = [*B]\n",
    "\n",
    "a[i], b[i] = b[i], a[i]\n",
    "a[j], b[j] = b[j], a[j]\n",
    "\n",
    "print(\"\\nUpdated Matrix A\")\n",
    "for row in a:\n",
    "    print(row)\n",
    "\n",
    "print(\"\\nUpdated Matrix B\")\n",
    "for row in b:\n",
    "    print(row)\n",
    "\n",
    "transposed_a = [list(row) for row in zip(*A)]\n",
    "transposed_b = [list(row) for row in zip(*B)]\n",
    "    \n",
    "transposed_a[m], transposed_b[m] = transposed_b[m], transposed_a[m]\n",
    "transposed_a[n], transposed_b[n] = transposed_b[n], transposed_a[n]\n",
    "\n",
    "swapped_a = [list(row) for row in zip(*transposed_a)]\n",
    "swapped_b = [list(row) for row in zip(*transposed_b)]\n",
    "\n",
    "print(\"\\nUpdated Matrix A\")\n",
    "for row in swapped_a:\n",
    "    print(row)\n",
    "\n",
    "print(\"\\nUpdated Matrix B\")\n",
    "for row in swapped_b:\n",
    "    print(row)\n"
   ]
  },
  {
   "cell_type": "markdown",
   "metadata": {},
   "source": [
    "Q.8. \n",
    "Write a Python program that takes a list of integers and a target sum as input. Use a set to determine if there exist two distinct numbers in the list whose sum equals the target. If such a pair exists, print \"Pair found\"; otherwise, print \"No pair found\".\n",
    "\n",
    "nums = [3, 8, 12, 4, 7, 9] \n",
    "\n",
    "target = 15\n",
    "nums = [5, 1, 9, 14, 6, 3]\n",
    "\n",
    "target = 20"
   ]
  },
  {
   "cell_type": "code",
   "execution_count": 19,
   "metadata": {},
   "outputs": [
    {
     "name": "stdout",
     "output_type": "stream",
     "text": [
      "Pair found\n"
     ]
    }
   ],
   "source": [
    "n = int(input(\"Enter the size of the list\"))\n",
    "nums = [int(input(\"Enter the numbers in the list\")) for i in range(n)]\n",
    "target = int(input(\"Enter the target\"))\n",
    "\n",
    "s = set()  \n",
    "    \n",
    "for num in nums:\n",
    "    if target - num in s and num != target - num:\n",
    "        print(\"Pair found\")\n",
    "        break\n",
    "    s.add(num)\n",
    "else:\n",
    "    print(\"No pair found\")"
   ]
  },
  {
   "cell_type": "markdown",
   "metadata": {},
   "source": [
    "Q.9. Find out the methods that are applicable for list but not for tuples. List them out."
   ]
  },
  {
   "cell_type": "markdown",
   "metadata": {},
   "source": [
    "1.  **append(x)**\n",
    "   - Adds an item `x` to the end of the list.\n",
    "\n",
    "2. **extend(iterable)**   \n",
    "   - Extends the list by appending elements from the given iterable.\n",
    "\n",
    "3. **insert(i, x)**   \n",
    "   - Inserts an item `x` at the specified index `i` in the list.\n",
    "\n",
    "4. **remove(x)**   \n",
    "   - Removes the first occurrence of item `x` from the list.\n",
    "\n",
    "5. **pop([i])**   \n",
    "   - Removes and returns the item at the specified index `i` (or the last item if no index is provided).\n",
    "\n",
    "6. **clear()**   \n",
    "   - Removes all items from the list, leaving it empty.\n",
    "\n",
    "7. **sort()**   \n",
    "   - Sorts the elements of the list in place in ascending order.\n",
    "\n",
    "8. **reverse()**   \n",
    "   - Reverses the elements of the list in place.\n",
    "\n",
    "9. **copy()**   \n",
    "   - Returns a shallow copy of the list."
   ]
  }
 ],
 "metadata": {
  "kernelspec": {
   "display_name": "Python 3",
   "language": "python",
   "name": "python3"
  },
  "language_info": {
   "codemirror_mode": {
    "name": "ipython",
    "version": 3
   },
   "file_extension": ".py",
   "mimetype": "text/x-python",
   "name": "python",
   "nbconvert_exporter": "python",
   "pygments_lexer": "ipython3",
   "version": "3.11.2"
  }
 },
 "nbformat": 4,
 "nbformat_minor": 2
}
