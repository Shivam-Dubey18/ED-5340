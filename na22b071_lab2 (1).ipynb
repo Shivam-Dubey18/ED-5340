{
 "cells": [
  {
   "cell_type": "markdown",
   "metadata": {},
   "source": [
    "SHIVAM DUBEY NA22B071 LAB 2"
   ]
  },
  {
   "cell_type": "code",
   "execution_count": 1,
   "metadata": {},
   "outputs": [],
   "source": [
    "#Q.1. Given an integer or a string (assume to be a single word), find out the sum of its digits. (Read input from console )"
   ]
  },
  {
   "cell_type": "code",
   "execution_count": null,
   "metadata": {},
   "outputs": [
    {
     "name": "stdout",
     "output_type": "stream",
     "text": [
      "Sum of digits in the given number is: 6\n"
     ]
    }
   ],
   "source": [
    "num = input(\"Enter a number or a string: \")\n",
    "sum = 0\n",
    "for i in num:\n",
    "    if i.isdigit(): #check if the character is a digit\n",
    "        sum += int(i)\n",
    "print(\"Sum of digits in the given number is:\", sum)\n"
   ]
  },
  {
   "cell_type": "code",
   "execution_count": 6,
   "metadata": {},
   "outputs": [],
   "source": [
    "#Q.2. Create a list of random integers in range(1,100) , find the median of the numbers in the list, later divide the list into two sublists with respect to the median."
   ]
  },
  {
   "cell_type": "code",
   "execution_count": 74,
   "metadata": {},
   "outputs": [
    {
     "name": "stdout",
     "output_type": "stream",
     "text": [
      "[40, 10, 58, 98, 14, 16, 28, 31, 80, 27]\n",
      "Median of the list is: 29.5\n"
     ]
    }
   ],
   "source": [
    "import random\n",
    "import statistics\n",
    "list1 = []\n",
    "n = int(input(\"Enter the number of elements in the list: \"))\n",
    "for i in range(n):\n",
    "    list1.append(random.randint(1,100))\n",
    "print(list1)\n",
    "print(\"Median of the list is:\", statistics.median(list1))\n"
   ]
  },
  {
   "cell_type": "code",
   "execution_count": 11,
   "metadata": {},
   "outputs": [],
   "source": [
    "#3. Using loops, compute the series for (a) exp(x), (b) sin x and (c) cos x, taking input as x (and you can also take input for the number of terms to be computed in the series)."
   ]
  },
  {
   "cell_type": "code",
   "execution_count": 12,
   "metadata": {},
   "outputs": [
    {
     "name": "stdout",
     "output_type": "stream",
     "text": [
      "exp(x) is: 3.4212270802517595\n",
      "sin(x) is: 0.9424888019316973\n",
      "cos(x) is: 0.3342377271245026\n"
     ]
    }
   ],
   "source": [
    "import math\n",
    "x = float(input(\"Enter the value of x: \"))  \n",
    "n = int(input(\"Enter the number of terms to be computed in the series: \"))\n",
    "\n",
    "# (a) exp(x) = 1 + x + x^2/2! + x^3/3! + x^4/4! + ... = summation of x^n/n!\n",
    "exp = 0\n",
    "for i in range(n):\n",
    "    exp += x**i / math.factorial(i)\n",
    "print(\"exp(x) is:\", exp)\n",
    "\n",
    "# (b) sin(x) = x - x^3/3! + x^5/5! - x^7/7! + ... = summation of (-1)^n * x^(2n+1)/(2n+1)!\n",
    "sin = 0\n",
    "for i in range(n):\n",
    "    sin += ((-1)**i) * (x**(2*i + 1) / math.factorial(2*i + 1))\n",
    "print(\"sin(x) is:\", sin)\n",
    "\n",
    "# (c) cos(x) = 1 - x^2/2! + x^4/4! - x^6/6! + ... = summation of (-1)^n * x^(2n)/(2n)!\n",
    "cos = 0\n",
    "for i in range(n):\n",
    "    cos += ((-1)**i) * (x**(2*i) / math.factorial(2*i))\n",
    "print(\"cos(x) is:\", cos)\n"
   ]
  },
  {
   "cell_type": "code",
   "execution_count": null,
   "metadata": {},
   "outputs": [],
   "source": [
    "# Q.4. WAP to check if an input string is palindrome (a) using string operations (b) without using string operations"
   ]
  },
  {
   "cell_type": "code",
   "execution_count": null,
   "metadata": {},
   "outputs": [
    {
     "name": "stdout",
     "output_type": "stream",
     "text": [
      "It is a palindrome\n"
     ]
    }
   ],
   "source": [
    "str = input(\"Enter a string: \")\n",
    "# (a) Using string operations\n",
    "if str == str[::-1]:\n",
    "    print(\"It is a palindrome\")\n",
    "else:\n",
    "    print(\"It is not a plaindrome\")\n",
    "\n",
    "\n",
    "# (b) Without using string operations\n",
    "left = 0\n",
    "right = len(str) - 1\n",
    "bool = True\n",
    "while(left<right):\n",
    "    if(str[left] != str[right]):\n",
    "        bool = False\n",
    "        break\n",
    "    left += 1\n",
    "    right -= 1\n",
    "if bool:\n",
    "    print(\"It is a palindrome\")\n",
    "else:\n",
    "    print(\"It is not a palindrome\")\n",
    "\n",
    "   "
   ]
  },
  {
   "cell_type": "code",
   "execution_count": 23,
   "metadata": {},
   "outputs": [],
   "source": [
    "# Q.5.Given a string str, the task is to reverse the order of the words in the given string. There is a space between two words."
   ]
  },
  {
   "cell_type": "code",
   "execution_count": 70,
   "metadata": {},
   "outputs": [
    {
     "name": "stdout",
     "output_type": "stream",
     "text": [
      "Reversed string is: course science data a is This\n"
     ]
    }
   ],
   "source": [
    "str = input(\"Enter a string: \") #This is a data science course\n",
    "words = str.split()\n",
    "words = words[::-1]\n",
    "str = \" \".join(words)\n",
    "print(\"Reversed string is:\", str)"
   ]
  },
  {
   "cell_type": "code",
   "execution_count": 80,
   "metadata": {},
   "outputs": [],
   "source": [
    "# Q.6.Write a program to take a sentence as input from the user and store every second character from the input string using slicing in a list. Print the remaining string in reverse order using slicing."
   ]
  },
  {
   "cell_type": "code",
   "execution_count": null,
   "metadata": {},
   "outputs": [
    {
     "name": "stdout",
     "output_type": "stream",
     "text": [
      "Every second character from the input string: ['h', 's', 'i', ' ', ' ', 'a', 'a', 's', 'i', 'n', 'e', 'c', 'u', 's']\n",
      "Remaining string in reverse order: ero cec tdas iT\n"
     ]
    }
   ],
   "source": [
    "str = input(\"Enter a string: \") #This is a data science course\n",
    "\n",
    "#list2 = list(str[1::2]) \n",
    "# this was giving error that list is not callable therefore I used for loop and append method\n",
    "\n",
    "list2 = []\n",
    "for i in range(1, len(str), 2):\n",
    "    list2.append(str[i])\n",
    "\n",
    "\n",
    "print(\"Every second character from the input string:\", list2)\n",
    "\n",
    "remaining = str[::2]\n",
    "print(\"Remaining string in reverse order:\", remaining[::-1])\n"
   ]
  },
  {
   "cell_type": "code",
   "execution_count": 42,
   "metadata": {},
   "outputs": [],
   "source": [
    "# Q.7. Find about continue, and pass statements and write a program to demonstrate them."
   ]
  },
  {
   "cell_type": "code",
   "execution_count": 47,
   "metadata": {},
   "outputs": [
    {
     "name": "stdout",
     "output_type": "stream",
     "text": [
      "1\n",
      "2\n",
      "3\n",
      "4\n",
      "6\n",
      "7\n",
      "8\n",
      "9\n",
      "10\n",
      "1\n",
      "2\n",
      "3\n",
      "4\n",
      "5\n",
      "6\n",
      "7\n",
      "8\n",
      "9\n",
      "10\n"
     ]
    }
   ],
   "source": [
    "# Continue statement is used to skip the rest of the code inside a loop for the current iteration only. The control is transferred to the beginning of the loop for the next iteration.\n",
    "\n",
    "# Pass statement is used to write empty loops. It is used when a statement is required syntactically but you do not want any command or code to execute.\n",
    "\n",
    "# Program to demonstrate continue statement\n",
    "for i in range(1, 11):\n",
    "    if i == 5:\n",
    "        continue\n",
    "    print(i)\n",
    "\n",
    "# Program to demonstrate pass statement\n",
    "for i in range(1, 11):\n",
    "    if i == 5:\n",
    "        pass\n",
    "    print(i)"
   ]
  }
 ],
 "metadata": {
  "kernelspec": {
   "display_name": "Python 3",
   "language": "python",
   "name": "python3"
  },
  "language_info": {
   "codemirror_mode": {
    "name": "ipython",
    "version": 3
   },
   "file_extension": ".py",
   "mimetype": "text/x-python",
   "name": "python",
   "nbconvert_exporter": "python",
   "pygments_lexer": "ipython3",
   "version": "3.11.2"
  }
 },
 "nbformat": 4,
 "nbformat_minor": 2
}
