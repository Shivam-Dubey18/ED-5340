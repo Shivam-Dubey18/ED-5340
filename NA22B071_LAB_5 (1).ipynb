{
  "nbformat": 4,
  "nbformat_minor": 0,
  "metadata": {
    "colab": {
      "provenance": []
    },
    "kernelspec": {
      "name": "python3",
      "display_name": "Python 3"
    },
    "language_info": {
      "name": "python"
    }
  },
  "cells": [
    {
      "cell_type": "code",
      "execution_count": null,
      "metadata": {
        "id": "z2TTZfEQm7SH"
      },
      "outputs": [],
      "source": [
        "#Q.1\n",
        "\n",
        "class Item:\n",
        "    def __init__(self, name, quantity, price):\n",
        "        self._name = name\n",
        "        self._quantity = quantity\n",
        "        self._price = price\n",
        "\n",
        "    def total_value(self):\n",
        "        return self._quantity * self._price"
      ]
    },
    {
      "cell_type": "code",
      "source": [
        "#Q.2\n",
        "\n",
        "class Car:\n",
        "  def __init__(self, make, model, year):\n",
        "    self._make = make\n",
        "    self._model = model\n",
        "    self._year = year\n",
        "\n",
        "  def display(self):\n",
        "    print(f\"Make: {self._make}\")\n",
        "    print(f\"Model: {self._model}\")\n",
        "    print(f\"Year: {self._year}\")\n",
        "\n",
        "make = input(\"Enter the car make: \")\n",
        "model = input(\"Enter the car model: \")\n",
        "year = int(input(\"Enter the car year: \"))\n",
        "\n",
        "car = Car(make, model, year)\n",
        "car.display()\n"
      ],
      "metadata": {
        "colab": {
          "base_uri": "https://localhost:8080/"
        },
        "id": "5k6ta2DQpOj4",
        "outputId": "0396017c-e877-47af-a887-31080c866139"
      },
      "execution_count": null,
      "outputs": [
        {
          "output_type": "stream",
          "name": "stdout",
          "text": [
            "Enter the car make: A\n",
            "Enter the car model: B\n",
            "Enter the car year: 2\n",
            "Make: A\n",
            "Model: B\n",
            "Year: 2\n"
          ]
        }
      ]
    },
    {
      "cell_type": "code",
      "source": [
        "#Q.3\n",
        "import cmath\n",
        "\n",
        "#(a)\n",
        "class ComplexNumber:\n",
        "    def __init__(self, real, imag):\n",
        "        self._real = real\n",
        "        self._imag = imag\n",
        "\n",
        "    def __add__(self, other):\n",
        "        return ComplexNumber(self._real + other._real, self._imag + other._imag)\n",
        "\n",
        "    def __sub__(self, other):\n",
        "        return ComplexNumber(self._real - other._real, self._imag - other._imag)\n",
        "\n",
        "    def __mul__(self, other):\n",
        "        return ComplexNumber(self._real * other._real - self._imag * other._imag,\n",
        "                             self._real * other._imag + self._imag * other._real)\n",
        "\n",
        "    def print_comp(self):\n",
        "        print(f\"{self._real} + {self._imag}i\")\n",
        "\n",
        "\n",
        "#(b)\n",
        "class PolarComplex(ComplexNumber):\n",
        "    def __init__(self, real, imag):\n",
        "        super().__init__(real, imag)\n",
        "        self._magnitude = abs(complex(self._real, self._imag))\n",
        "        self._angle = cmath.phase(complex(self._real, self._imag))\n",
        "\n",
        "    def __mul__(self, other):\n",
        "        new_magnitude = self._magnitude * other._magnitude\n",
        "        new_angle = self._angle + other._angle\n",
        "        new_real = new_magnitude * cmath.cos(new_angle)\n",
        "        new_imag = new_magnitude * cmath.sin(new_angle)\n",
        "        return PolarComplex(new_real, new_imag)\n",
        "\n",
        "    def print_pol(self):\n",
        "        print(f\"{self._magnitude}e^{self._angle}\")\n",
        "\n",
        "\n",
        "c1 = ComplexNumber(3, 4)\n",
        "c1.print_comp()\n",
        "c2 = ComplexNumber(1, 2)\n",
        "c2.print_comp()\n",
        "c3 = c1+c2\n",
        "c3.print_comp()\n",
        "c4 = c1-c2\n",
        "c4.print_comp()\n",
        "c5 = c1*c2\n",
        "c5.print_comp()\n",
        "\n",
        "p1 = PolarComplex(3, 4)\n",
        "p1.print_pol()\n",
        "p2 = PolarComplex(1, 2)\n",
        "p2.print_pol()\n",
        "p3 = p1*p2\n",
        "p3.print_pol()\n",
        "\n",
        "\n",
        "\n",
        "\n"
      ],
      "metadata": {
        "colab": {
          "base_uri": "https://localhost:8080/"
        },
        "id": "DAWJ5s8lrUCh",
        "outputId": "6d0f03a9-405d-42db-866b-741404698cb2"
      },
      "execution_count": null,
      "outputs": [
        {
          "output_type": "stream",
          "name": "stdout",
          "text": [
            "3 + 4i\n",
            "1 + 2i\n",
            "4 + 6i\n",
            "2 + 2i\n",
            "-5 + 10i\n",
            "5.0e^0.9272952180016122\n",
            "2.23606797749979e^1.1071487177940904\n",
            "11.180339887498949e^2.0344439357957027\n"
          ]
        }
      ]
    },
    {
      "cell_type": "code",
      "source": [
        "#Q.4.\n",
        "class Polynomial:\n",
        "    def __init__(self, coefficients):\n",
        "        self.coefficients = coefficients\n",
        "\n",
        "    def __sub__(self, other):\n",
        "        max_len = max(len(self.coefficients), len(other.coefficients))\n",
        "        new_coefficients = [0] * max_len\n",
        "\n",
        "        for i in range(max_len):\n",
        "            coef1 = self.coefficients[i] if i < len(self.coefficients) else 0\n",
        "            coef2 = other.coefficients[i] if i < len(other.coefficients) else 0\n",
        "            new_coefficients[i] = coef1 - coef2\n",
        "\n",
        "        return Polynomial(new_coefficients)\n",
        "\n",
        "    def print_polynomial(self):\n",
        "        print(self.coefficients)\n",
        "\n",
        "class DerivativePolynomial(Polynomial):\n",
        "    def derivative(self):\n",
        "        if len(self.coefficients) <= 1:\n",
        "            return DerivativePolynomial([0])\n",
        "\n",
        "        derived_coeffs = [i * self.coefficients[i] for i in range(1, len(self.coefficients))]\n",
        "        return DerivativePolynomial(derived_coeffs)\n",
        "\n",
        "    def __sub__(self, other):\n",
        "        derived_self = self.derivative()\n",
        "        derived_other = other.derivative()\n",
        "        return Polynomial.__sub__(derived_self, derived_other)\n",
        "\n",
        "\n",
        "p1 = Polynomial([7, 0, 4, 3])\n",
        "p2 = Polynomial([1, 2, 3])\n",
        "\n",
        "dp1 = DerivativePolynomial(p1.coefficients)\n",
        "dp2 = DerivativePolynomial(p2.coefficients)\n",
        "\n",
        "p1.print_polynomial()\n",
        "p2.print_polynomial()\n",
        "(p1 - p2).print_polynomial()\n",
        "dp1.derivative().print_polynomial()\n",
        "dp2.derivative().print_polynomial()\n",
        "(dp1 - dp2).print_polynomial()\n"
      ],
      "metadata": {
        "colab": {
          "base_uri": "https://localhost:8080/"
        },
        "id": "c18Ilbw7wIg2",
        "outputId": "aa815880-da52-45e3-e52d-5d626693655c"
      },
      "execution_count": 2,
      "outputs": [
        {
          "output_type": "stream",
          "name": "stdout",
          "text": [
            "[7, 0, 4, 3]\n",
            "[1, 2, 3]\n",
            "[6, -2, 1, 3]\n",
            "[0, 8, 9]\n",
            "[2, 6]\n",
            "[-2, 2, 9]\n"
          ]
        }
      ]
    },
    {
      "cell_type": "code",
      "source": [
        "#Q.5"
      ],
      "metadata": {
        "id": "3l9ZSn0I4mPC"
      },
      "execution_count": null,
      "outputs": []
    },
    {
      "cell_type": "markdown",
      "source": [
        "Containership also referred to as composition allows a class to contain an object of a different class as a member data. Ex: Class A could contain an object of class B as a member. Here, all the public methods (or functions) defined in B can be executed within the class A. Class A becomes the container, while class B becomes the contained class. This can also be explained as class A is composed of class B.\n",
        "\n",
        "**Difference between Inheritance and Containership:**\n",
        "\n",
        "Inheritance is the ability for a class to inherit properties and behavior from a parent class by extending it, while Containership is the ability of a class to contain objects of different classes as member data. If a class is extended, it inherits all the public and protected properties/behavior and those behaviors may be overridden by the subclass. But if a class is contained in another, the container does not get the ability to change or add behavior to the contained. Inheritance represents an “is-a” relationship in OOP, but Containership represents a “has-a” relationship."
      ],
      "metadata": {
        "id": "d-lJVpQAA8AB"
      }
    },
    {
      "cell_type": "code",
      "source": [
        "class Address:\n",
        "    def __init__(self, street, city, state, zipcode):\n",
        "        self._street = street\n",
        "        self._city = city\n",
        "        self._state = state\n",
        "        self._zipcode = zipcode\n",
        "\n",
        "class Employee:\n",
        "    def __init__(self, name, email, address_obj):\n",
        "        self._name = name\n",
        "        self._email = email\n",
        "        self._address = address_obj  # This is the \"containment\" part\n",
        "\n",
        "    def print_details(self):\n",
        "        print(f\"Name: {self._name}, Email: {self._email}, Address: {self._address._street}, {self._address._city}, {self._address._state}, {self._address._zipcode}\")\n",
        "\n",
        "employee1 = Employee(\"Shivam Dubey\", \"example@email.com\", Address(\"123 Main St\", \"Anytown\", \"CA\", \"12345\"))\n",
        "employee1.print_details()\n"
      ],
      "metadata": {
        "colab": {
          "base_uri": "https://localhost:8080/"
        },
        "id": "HFqdzn04A9vf",
        "outputId": "94eda9ba-8f33-44c4-8288-2cd2e2d7a201"
      },
      "execution_count": 3,
      "outputs": [
        {
          "output_type": "stream",
          "name": "stdout",
          "text": [
            "Name: Shivam Dubey, Email: example@email.com, Address: 123 Main St, Anytown, CA, 12345\n"
          ]
        }
      ]
    },
    {
      "cell_type": "code",
      "source": [
        "#Q.6\n",
        "class Vector:\n",
        "  def __init__(self, x=1, y=1, z=1):\n",
        "    self._x = x\n",
        "    self._y = y\n",
        "    self._z = z\n",
        "\n",
        "  def add_vec(self,other):\n",
        "    v = Vector()\n",
        "    v._x = self._x + other._x\n",
        "    v._y = self._y + other._y\n",
        "    v._z = self._z + other._z\n",
        "    return v\n",
        "\n",
        "  def sub_vec(self, other):\n",
        "    v = Vector()\n",
        "    v._x = self._x - other._x\n",
        "    v._y = self._y - other._y\n",
        "    v._z = self._z - other._z\n",
        "    return v\n",
        "\n",
        "  def dot_product(self, other):\n",
        "    return self._x * other._x + self._y * other._y + self._z * other._z\n",
        "\n",
        "  def cross_product(self, other):\n",
        "    v = Vector()\n",
        "    v._x = self._y * other._z - self._z * other._y\n",
        "    v._y = self._z * other._x - self._x * other._z\n",
        "    v._z = self._x * other._y - self._y * other._x\n",
        "    return v\n",
        "\n",
        "  def scalar_product(self, scalar):\n",
        "    v = Vector()\n",
        "    v._x = self._x * scalar\n",
        "    v._y = self._y * scalar\n",
        "    v._z = self._z * scalar\n",
        "    return v\n",
        "\n",
        "  def magnitude(self):\n",
        "    return (self._x**2 + self._y**2 + self._z**2)**0.5\n",
        "\n",
        "  def __add__(self, other):\n",
        "    v = Vector()\n",
        "    v._x = self._x + other._x\n",
        "    v._y = self._y + other._y\n",
        "    v._z = self._z + other._z\n",
        "    return v\n",
        "\n",
        "  def __eq__(self, other):\n",
        "    return self._x == other._x and self._y == other._y and self._z == other._z\n",
        "\n",
        "  def __lt__(self, other):\n",
        "    return self.magnitude() < other.magnitude()\n",
        "\n",
        "\n",
        "  def print_vec(self):\n",
        "        print(f\"{self._x}i + {self._y}j + {self._z}k\")\n",
        "\n",
        "x1 = int(input(\"x1: \"))\n",
        "y1 = int(input(\"y1: \"))\n",
        "z1 = int(input(\"z1: \"))\n",
        "\n",
        "x2 = int(input(\"x2: \"))\n",
        "y2 = int(input(\"y2: \"))\n",
        "z2 = int(input(\"z2: \"))\n",
        "\n",
        "v1 = Vector(x1, y1, z1)\n",
        "v2 = Vector(x2, y2, z2)\n",
        "\n",
        "print(\"Vector 1:\")\n",
        "v1.print_vec()\n",
        "print(\"Vector 2:\")\n",
        "v2.print_vec()\n",
        "\n",
        "print(\"Vector Addition:\")\n",
        "v3 = v1.add_vec(v2)\n",
        "v3.print_vec()\n",
        "\n",
        "print(\"Vector Subtraction:\")\n",
        "v4 = v1.sub_vec(v2)\n",
        "v4.print_vec()\n",
        "\n",
        "print(\"Dot Product:\")\n",
        "print(v1.dot_product(v2))\n",
        "\n",
        "print(\"Cross Product:\")\n",
        "v5 = v1.cross_product(v2)\n",
        "v5.print_vec()\n",
        "\n",
        "print(\"Scalar Product:\")\n",
        "v6 = v1.scalar_product(3)\n",
        "v6.print_vec()\n",
        "\n",
        "print(\"Addition using operator overloading:\")\n",
        "v7 = v1 + v2\n",
        "v7.print_vec()\n",
        "\n",
        "print(\"Magnitude of Vector 1:\")\n",
        "print(v1.magnitude())\n",
        "\n",
        "print(\"Magnitude of Vector 2:\")\n",
        "print(v2.magnitude())\n",
        "\n",
        "print(\"Vector Comparison:\")\n",
        "print(v1 == v2)\n",
        "print(v1 < v2)\n"
      ],
      "metadata": {
        "colab": {
          "base_uri": "https://localhost:8080/"
        },
        "id": "1n9lvX4mCAKc",
        "outputId": "0b8f31ac-ad4b-49a1-d585-25b55cf29a7f"
      },
      "execution_count": null,
      "outputs": [
        {
          "output_type": "stream",
          "name": "stdout",
          "text": [
            "x1: 1\n",
            "y1: 2\n",
            "z1: 3\n",
            "x2: 4\n",
            "y2: 5\n",
            "z2: 6\n",
            "Vector 1:\n",
            "1i + 2j + 3k\n",
            "Vector 2:\n",
            "4i + 5j + 6k\n",
            "Vector Addition:\n",
            "5i + 7j + 9k\n",
            "Vector Subtraction:\n",
            "-3i + -3j + -3k\n",
            "Dot Product:\n",
            "32\n",
            "Cross Product:\n",
            "-3i + 6j + -3k\n",
            "Scalar Product:\n",
            "3i + 6j + 9k\n",
            "Addition using operator overloading:\n",
            "5i + 7j + 9k\n",
            "Magnitude of Vector 1:\n",
            "3.7416573867739413\n",
            "Magnitude of Vector 2:\n",
            "8.774964387392123\n",
            "Vector Comparison:\n",
            "False\n",
            "True\n"
          ]
        }
      ]
    }
  ]
}