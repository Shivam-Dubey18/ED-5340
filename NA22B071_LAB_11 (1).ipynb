{
  "nbformat": 4,
  "nbformat_minor": 0,
  "metadata": {
    "colab": {
      "provenance": [],
      "toc_visible": true
    },
    "kernelspec": {
      "name": "python3",
      "display_name": "Python 3"
    },
    "language_info": {
      "name": "python"
    }
  },
  "cells": [
    {
      "cell_type": "code",
      "execution_count": 1,
      "metadata": {
        "id": "cTLIjAwiGqqX"
      },
      "outputs": [],
      "source": [
        "import numpy as np\n",
        "import pandas as pd\n",
        "from sklearn.model_selection import train_test_split\n",
        "from sklearn.metrics import accuracy_score, precision_score, recall_score, f1_score\n",
        "from sklearn.preprocessing import StandardScaler, LabelEncoder"
      ]
    },
    {
      "cell_type": "code",
      "source": [
        "# Activation functions and derivatives\n",
        "def sigmoid(x):\n",
        "  return 1 / (1 + np.exp(-x))\n",
        "\n",
        "def sigmoid_deriv(x):\n",
        "  s = sigmoid(x)\n",
        "  return s * (1 - s)\n",
        "\n",
        "def relu(x):\n",
        "  return np.maximum(0, x)\n",
        "\n",
        "def relu_deriv(x):\n",
        "  return (x > 0).astype(float)\n",
        "\n",
        "def tanh(x):\n",
        "  return np.tanh(x)\n",
        "\n",
        "def tanh_deriv(x):\n",
        "  return 1 - np.tanh(x)**2"
      ],
      "metadata": {
        "id": "zKrLbn71LTtb"
      },
      "execution_count": 2,
      "outputs": []
    },
    {
      "cell_type": "code",
      "source": [
        "# Loss functions\n",
        "def mse_loss(y_true, y_pred):\n",
        "  return np.mean((y_true - y_pred) ** 2)\n",
        "\n",
        "def cross_entropy_loss(y_true, y_pred):\n",
        "    y_pred = np.clip(y_pred, 1e-10, 1 - 1e-10)\n",
        "    return -np.mean(y_true * np.log(y_pred) + (1 - y_true) * np.log(1 - y_pred))\n"
      ],
      "metadata": {
        "id": "p8pacREQLV4s"
      },
      "execution_count": 3,
      "outputs": []
    },
    {
      "cell_type": "code",
      "source": [
        "df = pd.read_csv(\"weather_forecast_data.csv\")\n",
        "X = df.drop('Rain', axis=1).values\n",
        "y = LabelEncoder().fit_transform(df['Rain'])\n",
        "y = y.reshape(-1, 1)\n",
        "scaler = StandardScaler()\n",
        "X = scaler.fit_transform(X)"
      ],
      "metadata": {
        "id": "9iynGxq2IRT3"
      },
      "execution_count": 8,
      "outputs": []
    },
    {
      "cell_type": "code",
      "source": [
        "input_size = X.shape[1]\n",
        "h1_size = 8\n",
        "h2_size = 4\n",
        "output_size = 1\n",
        "epochs = 1000\n",
        "lr = 0.01"
      ],
      "metadata": {
        "id": "XssIP7fRMA_w"
      },
      "execution_count": 5,
      "outputs": []
    },
    {
      "cell_type": "code",
      "source": [
        "activations = {\n",
        "    'sigmoid': (sigmoid, sigmoid_deriv),\n",
        "    'relu': (relu, relu_deriv),\n",
        "    'tanh': (tanh, tanh_deriv),\n",
        "}\n",
        "\n",
        "for act_name, (act, _) in activations.items():\n",
        "    np.random.seed(42)\n",
        "    W1 = np.random.randn(input_size, h1_size)\n",
        "    b1 = np.zeros((1, h1_size))\n",
        "    W2 = np.random.randn(h1_size, h2_size)\n",
        "    b2 = np.zeros((1, h2_size))\n",
        "    W3 = np.random.randn(h2_size, output_size)\n",
        "    b3 = np.zeros((1, output_size))\n",
        "\n",
        "    # Forward propagation\n",
        "    Z1 = X @ W1 + b1\n",
        "    A1 = act(Z1)\n",
        "    Z2 = A1 @ W2 + b2\n",
        "    A2 = act(Z2)\n",
        "    Z3 = A2 @ W3 + b3\n",
        "    A3 = sigmoid(Z3)\n",
        "\n",
        "    # Evaluation\n",
        "    y_pred_prob = A3\n",
        "    y_pred = (y_pred_prob > 0.5).astype(int)\n",
        "\n",
        "    print(f\"\\nActivation: {act_name.upper()}\")\n",
        "    print(\"Predicted Probabilities:\", y_pred_prob[:5])\n",
        "    print(\"Predicted Labels:\", y_pred[:5])\n",
        "\n",
        "    # Evaluation metrics\n",
        "    accuracy = accuracy_score(y, y_pred)\n",
        "    precision = precision_score(y, y_pred)\n",
        "    recall = recall_score(y, y_pred)\n",
        "    f1 = f1_score(y, y_pred)\n",
        "\n",
        "    print(\"Accuracy:\", accuracy)\n",
        "    print(\"Precision:\", precision)\n",
        "    print(\"Recall:\", recall)\n",
        "    print(\"F1 Score:\", f1)\n",
        "\n",
        "    mse = mse_loss(y, y_pred_prob)\n",
        "    ce = cross_entropy_loss(y, y_pred_prob)\n",
        "    print(\"MSE Loss:\", mse)\n",
        "    print(\"Cross-Entropy Loss:\", ce)"
      ],
      "metadata": {
        "colab": {
          "base_uri": "https://localhost:8080/"
        },
        "id": "9t_i4VqTPMNd",
        "outputId": "65ee9492-43db-4632-9337-0f7629bba95a"
      },
      "execution_count": 7,
      "outputs": [
        {
          "output_type": "stream",
          "name": "stdout",
          "text": [
            "\n",
            "Activation: SIGMOID\n",
            "Predicted Probabilities: [[0.31606892]\n",
            " [0.49677832]\n",
            " [0.35369789]\n",
            " [0.57784973]\n",
            " [0.49255116]]\n",
            "Predicted Labels: [[0]\n",
            " [0]\n",
            " [0]\n",
            " [1]\n",
            " [0]]\n",
            "Accuracy: 0.5932\n",
            "Precision: 0.06551297898640297\n",
            "Recall: 0.16878980891719744\n",
            "F1 Score: 0.0943900267141585\n",
            "MSE Loss: 0.2311138165628552\n",
            "Cross-Entropy Loss: 0.6538769496860217\n",
            "\n",
            "Activation: RELU\n",
            "Predicted Probabilities: [[0.34331309]\n",
            " [0.9994064 ]\n",
            " [0.00213902]\n",
            " [0.99005579]\n",
            " [0.84116466]]\n",
            "Predicted Labels: [[0]\n",
            " [1]\n",
            " [0]\n",
            " [1]\n",
            " [1]]\n",
            "Accuracy: 0.474\n",
            "Precision: 0.1643192488262911\n",
            "Recall: 0.7802547770700637\n",
            "F1 Score: 0.27146814404432135\n",
            "MSE Loss: 0.4295873167726197\n",
            "Cross-Entropy Loss: 2.265101732620879\n",
            "\n",
            "Activation: TANH\n",
            "Predicted Probabilities: [[0.01826478]\n",
            " [0.81071502]\n",
            " [0.03703719]\n",
            " [0.98406542]\n",
            " [0.88711845]]\n",
            "Predicted Labels: [[0]\n",
            " [1]\n",
            " [0]\n",
            " [1]\n",
            " [1]]\n",
            "Accuracy: 0.4844\n",
            "Precision: 0.1182458888018794\n",
            "Recall: 0.48089171974522293\n",
            "F1 Score: 0.18981772470144564\n",
            "MSE Loss: 0.39018192404355306\n",
            "Cross-Entropy Loss: 1.2891211732937993\n"
          ]
        }
      ]
    },
    {
      "cell_type": "code",
      "source": [],
      "metadata": {
        "id": "20H7O6afPMvo"
      },
      "execution_count": null,
      "outputs": []
    }
  ]
}